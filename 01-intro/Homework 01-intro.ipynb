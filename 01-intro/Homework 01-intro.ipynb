{
 "cells": [
  {
   "cell_type": "markdown",
   "id": "600d42f4",
   "metadata": {},
   "source": [
    "# Initial setup"
   ]
  },
  {
   "cell_type": "code",
   "execution_count": 1,
   "id": "a16484fe",
   "metadata": {},
   "outputs": [],
   "source": [
    "import pandas as pd"
   ]
  },
  {
   "cell_type": "code",
   "execution_count": 2,
   "id": "b02d21d5",
   "metadata": {},
   "outputs": [
    {
     "data": {
      "text/plain": [
       "'1.4.2'"
      ]
     },
     "execution_count": 2,
     "metadata": {},
     "output_type": "execute_result"
    }
   ],
   "source": [
    "pd.__version__"
   ]
  },
  {
   "cell_type": "code",
   "execution_count": 3,
   "id": "6ea5cb62",
   "metadata": {},
   "outputs": [],
   "source": [
    "import sklearn"
   ]
  },
  {
   "cell_type": "code",
   "execution_count": 4,
   "id": "12233032",
   "metadata": {},
   "outputs": [
    {
     "data": {
      "text/plain": [
       "'1.0.2'"
      ]
     },
     "execution_count": 4,
     "metadata": {},
     "output_type": "execute_result"
    }
   ],
   "source": [
    "sklearn.__version__"
   ]
  },
  {
   "cell_type": "code",
   "execution_count": 5,
   "id": "8f3ecc2e",
   "metadata": {},
   "outputs": [],
   "source": [
    "from sklearn.feature_extraction import DictVectorizer\n",
    "from sklearn.linear_model import LinearRegression\n",
    "# from sklearn.linear_model import Lasso\n",
    "# from sklearn.linear_model import Ridge\n",
    "from sklearn.metrics import mean_squared_error"
   ]
  },
  {
   "cell_type": "code",
   "execution_count": 6,
   "id": "e3d37fbb",
   "metadata": {},
   "outputs": [
    {
     "name": "stdout",
     "output_type": "stream",
     "text": [
      "Requirement already satisfied: pyarrow in /home/codespace/anaconda3/lib/python3.9/site-packages (20.0.0)\r\n"
     ]
    }
   ],
   "source": [
    "!pip install pyarrow"
   ]
  },
  {
   "cell_type": "code",
   "execution_count": 7,
   "id": "54ddab15",
   "metadata": {},
   "outputs": [],
   "source": [
    "import seaborn as sns\n",
    "import matplotlib.pyplot as plt"
   ]
  },
  {
   "cell_type": "markdown",
   "id": "2862432c",
   "metadata": {},
   "source": [
    "## Loading data\n",
    "\n",
    "The data is stored in the cloud, in the apache parquet format, which is read by read_parquet.\n",
    "\n",
    "First read the Yellow taxi trip records data for January 2023.\n",
    "\n",
    "df stands for dataframe."
   ]
  },
  {
   "cell_type": "code",
   "execution_count": 10,
   "id": "d760c4ed",
   "metadata": {
    "scrolled": true
   },
   "outputs": [],
   "source": [
    "df = pd.read_parquet('https://d37ci6vzurychx.cloudfront.net/trip-data/yellow_tripdata_2023-01.parquet')"
   ]
  },
  {
   "cell_type": "code",
   "execution_count": 11,
   "id": "6cfb493d",
   "metadata": {
    "scrolled": true
   },
   "outputs": [
    {
     "data": {
      "text/html": [
       "<div>\n",
       "<style scoped>\n",
       "    .dataframe tbody tr th:only-of-type {\n",
       "        vertical-align: middle;\n",
       "    }\n",
       "\n",
       "    .dataframe tbody tr th {\n",
       "        vertical-align: top;\n",
       "    }\n",
       "\n",
       "    .dataframe thead th {\n",
       "        text-align: right;\n",
       "    }\n",
       "</style>\n",
       "<table border=\"1\" class=\"dataframe\">\n",
       "  <thead>\n",
       "    <tr style=\"text-align: right;\">\n",
       "      <th></th>\n",
       "      <th>VendorID</th>\n",
       "      <th>tpep_pickup_datetime</th>\n",
       "      <th>tpep_dropoff_datetime</th>\n",
       "      <th>passenger_count</th>\n",
       "      <th>trip_distance</th>\n",
       "      <th>RatecodeID</th>\n",
       "      <th>store_and_fwd_flag</th>\n",
       "      <th>PULocationID</th>\n",
       "      <th>DOLocationID</th>\n",
       "      <th>payment_type</th>\n",
       "      <th>fare_amount</th>\n",
       "      <th>extra</th>\n",
       "      <th>mta_tax</th>\n",
       "      <th>tip_amount</th>\n",
       "      <th>tolls_amount</th>\n",
       "      <th>improvement_surcharge</th>\n",
       "      <th>total_amount</th>\n",
       "      <th>congestion_surcharge</th>\n",
       "      <th>airport_fee</th>\n",
       "    </tr>\n",
       "  </thead>\n",
       "  <tbody>\n",
       "    <tr>\n",
       "      <th>0</th>\n",
       "      <td>2</td>\n",
       "      <td>2023-01-01 00:32:10</td>\n",
       "      <td>2023-01-01 00:40:36</td>\n",
       "      <td>1.0</td>\n",
       "      <td>0.97</td>\n",
       "      <td>1.0</td>\n",
       "      <td>N</td>\n",
       "      <td>161</td>\n",
       "      <td>141</td>\n",
       "      <td>2</td>\n",
       "      <td>9.3</td>\n",
       "      <td>1.00</td>\n",
       "      <td>0.5</td>\n",
       "      <td>0.00</td>\n",
       "      <td>0.0</td>\n",
       "      <td>1.0</td>\n",
       "      <td>14.30</td>\n",
       "      <td>2.5</td>\n",
       "      <td>0.00</td>\n",
       "    </tr>\n",
       "    <tr>\n",
       "      <th>1</th>\n",
       "      <td>2</td>\n",
       "      <td>2023-01-01 00:55:08</td>\n",
       "      <td>2023-01-01 01:01:27</td>\n",
       "      <td>1.0</td>\n",
       "      <td>1.10</td>\n",
       "      <td>1.0</td>\n",
       "      <td>N</td>\n",
       "      <td>43</td>\n",
       "      <td>237</td>\n",
       "      <td>1</td>\n",
       "      <td>7.9</td>\n",
       "      <td>1.00</td>\n",
       "      <td>0.5</td>\n",
       "      <td>4.00</td>\n",
       "      <td>0.0</td>\n",
       "      <td>1.0</td>\n",
       "      <td>16.90</td>\n",
       "      <td>2.5</td>\n",
       "      <td>0.00</td>\n",
       "    </tr>\n",
       "    <tr>\n",
       "      <th>2</th>\n",
       "      <td>2</td>\n",
       "      <td>2023-01-01 00:25:04</td>\n",
       "      <td>2023-01-01 00:37:49</td>\n",
       "      <td>1.0</td>\n",
       "      <td>2.51</td>\n",
       "      <td>1.0</td>\n",
       "      <td>N</td>\n",
       "      <td>48</td>\n",
       "      <td>238</td>\n",
       "      <td>1</td>\n",
       "      <td>14.9</td>\n",
       "      <td>1.00</td>\n",
       "      <td>0.5</td>\n",
       "      <td>15.00</td>\n",
       "      <td>0.0</td>\n",
       "      <td>1.0</td>\n",
       "      <td>34.90</td>\n",
       "      <td>2.5</td>\n",
       "      <td>0.00</td>\n",
       "    </tr>\n",
       "    <tr>\n",
       "      <th>3</th>\n",
       "      <td>1</td>\n",
       "      <td>2023-01-01 00:03:48</td>\n",
       "      <td>2023-01-01 00:13:25</td>\n",
       "      <td>0.0</td>\n",
       "      <td>1.90</td>\n",
       "      <td>1.0</td>\n",
       "      <td>N</td>\n",
       "      <td>138</td>\n",
       "      <td>7</td>\n",
       "      <td>1</td>\n",
       "      <td>12.1</td>\n",
       "      <td>7.25</td>\n",
       "      <td>0.5</td>\n",
       "      <td>0.00</td>\n",
       "      <td>0.0</td>\n",
       "      <td>1.0</td>\n",
       "      <td>20.85</td>\n",
       "      <td>0.0</td>\n",
       "      <td>1.25</td>\n",
       "    </tr>\n",
       "    <tr>\n",
       "      <th>4</th>\n",
       "      <td>2</td>\n",
       "      <td>2023-01-01 00:10:29</td>\n",
       "      <td>2023-01-01 00:21:19</td>\n",
       "      <td>1.0</td>\n",
       "      <td>1.43</td>\n",
       "      <td>1.0</td>\n",
       "      <td>N</td>\n",
       "      <td>107</td>\n",
       "      <td>79</td>\n",
       "      <td>1</td>\n",
       "      <td>11.4</td>\n",
       "      <td>1.00</td>\n",
       "      <td>0.5</td>\n",
       "      <td>3.28</td>\n",
       "      <td>0.0</td>\n",
       "      <td>1.0</td>\n",
       "      <td>19.68</td>\n",
       "      <td>2.5</td>\n",
       "      <td>0.00</td>\n",
       "    </tr>\n",
       "  </tbody>\n",
       "</table>\n",
       "</div>"
      ],
      "text/plain": [
       "   VendorID tpep_pickup_datetime tpep_dropoff_datetime  passenger_count  \\\n",
       "0         2  2023-01-01 00:32:10   2023-01-01 00:40:36              1.0   \n",
       "1         2  2023-01-01 00:55:08   2023-01-01 01:01:27              1.0   \n",
       "2         2  2023-01-01 00:25:04   2023-01-01 00:37:49              1.0   \n",
       "3         1  2023-01-01 00:03:48   2023-01-01 00:13:25              0.0   \n",
       "4         2  2023-01-01 00:10:29   2023-01-01 00:21:19              1.0   \n",
       "\n",
       "   trip_distance  RatecodeID store_and_fwd_flag  PULocationID  DOLocationID  \\\n",
       "0           0.97         1.0                  N           161           141   \n",
       "1           1.10         1.0                  N            43           237   \n",
       "2           2.51         1.0                  N            48           238   \n",
       "3           1.90         1.0                  N           138             7   \n",
       "4           1.43         1.0                  N           107            79   \n",
       "\n",
       "   payment_type  fare_amount  extra  mta_tax  tip_amount  tolls_amount  \\\n",
       "0             2          9.3   1.00      0.5        0.00           0.0   \n",
       "1             1          7.9   1.00      0.5        4.00           0.0   \n",
       "2             1         14.9   1.00      0.5       15.00           0.0   \n",
       "3             1         12.1   7.25      0.5        0.00           0.0   \n",
       "4             1         11.4   1.00      0.5        3.28           0.0   \n",
       "\n",
       "   improvement_surcharge  total_amount  congestion_surcharge  airport_fee  \n",
       "0                    1.0         14.30                   2.5         0.00  \n",
       "1                    1.0         16.90                   2.5         0.00  \n",
       "2                    1.0         34.90                   2.5         0.00  \n",
       "3                    1.0         20.85                   0.0         1.25  \n",
       "4                    1.0         19.68                   2.5         0.00  "
      ]
     },
     "execution_count": 11,
     "metadata": {},
     "output_type": "execute_result"
    }
   ],
   "source": [
    "df.head()"
   ]
  },
  {
   "cell_type": "code",
   "execution_count": 12,
   "id": "814ea335",
   "metadata": {},
   "outputs": [
    {
     "name": "stdout",
     "output_type": "stream",
     "text": [
      "<class 'pandas.core.frame.DataFrame'>\n",
      "RangeIndex: 3066766 entries, 0 to 3066765\n",
      "Data columns (total 19 columns):\n",
      " #   Column                 Dtype         \n",
      "---  ------                 -----         \n",
      " 0   VendorID               int64         \n",
      " 1   tpep_pickup_datetime   datetime64[ns]\n",
      " 2   tpep_dropoff_datetime  datetime64[ns]\n",
      " 3   passenger_count        float64       \n",
      " 4   trip_distance          float64       \n",
      " 5   RatecodeID             float64       \n",
      " 6   store_and_fwd_flag     object        \n",
      " 7   PULocationID           int64         \n",
      " 8   DOLocationID           int64         \n",
      " 9   payment_type           int64         \n",
      " 10  fare_amount            float64       \n",
      " 11  extra                  float64       \n",
      " 12  mta_tax                float64       \n",
      " 13  tip_amount             float64       \n",
      " 14  tolls_amount           float64       \n",
      " 15  improvement_surcharge  float64       \n",
      " 16  total_amount           float64       \n",
      " 17  congestion_surcharge   float64       \n",
      " 18  airport_fee            float64       \n",
      "dtypes: datetime64[ns](2), float64(12), int64(4), object(1)\n",
      "memory usage: 444.6+ MB\n"
     ]
    }
   ],
   "source": [
    "df.info()"
   ]
  },
  {
   "cell_type": "markdown",
   "id": "83dad896",
   "metadata": {},
   "source": [
    "There are 19 columns in the data."
   ]
  },
  {
   "cell_type": "markdown",
   "id": "7d6ad4fb",
   "metadata": {},
   "source": [
    "## Duration prediction\n",
    "\n",
    "To get the duration, subtract the pickup time from the dropoff time, pandas datetime makes this simple, then they can be subtracted."
   ]
  },
  {
   "cell_type": "code",
   "execution_count": 13,
   "id": "b1fa9985",
   "metadata": {},
   "outputs": [],
   "source": [
    "df['tpep_pickup_pd_datetime'] = df.tpep_pickup_datetime\n",
    "df['tpep_dropoff_pd_datetime'] = df.tpep_dropoff_datetime\n",
    "\n",
    "df.tpep_pickup_pd_datetime = pd.to_datetime(df.tpep_pickup_datetime)\n",
    "df.tpep_dropoff_pd_datetime = pd.to_datetime(df.tpep_dropoff_datetime)"
   ]
  },
  {
   "cell_type": "code",
   "execution_count": 14,
   "id": "16e02390",
   "metadata": {},
   "outputs": [],
   "source": [
    "df['duration'] = df.tpep_dropoff_pd_datetime - df.tpep_pickup_pd_datetime"
   ]
  },
  {
   "cell_type": "code",
   "execution_count": 15,
   "id": "b99336b9",
   "metadata": {},
   "outputs": [
    {
     "data": {
      "text/plain": [
       "0         0 days 00:08:26\n",
       "1         0 days 00:06:19\n",
       "2         0 days 00:12:45\n",
       "3         0 days 00:09:37\n",
       "4         0 days 00:10:50\n",
       "                ...      \n",
       "3066761   0 days 00:13:59\n",
       "3066762   0 days 00:19:27\n",
       "3066763   0 days 00:24:31\n",
       "3066764   0 days 00:13:00\n",
       "3066765   0 days 00:14:24\n",
       "Name: duration, Length: 3066766, dtype: timedelta64[ns]"
      ]
     },
     "execution_count": 15,
     "metadata": {},
     "output_type": "execute_result"
    }
   ],
   "source": [
    "df.duration"
   ]
  },
  {
   "cell_type": "markdown",
   "id": "d85a13b4",
   "metadata": {},
   "source": [
    "Then apply a conversion to minutes to the duration"
   ]
  },
  {
   "cell_type": "code",
   "execution_count": 16,
   "id": "5b885e40",
   "metadata": {},
   "outputs": [],
   "source": [
    "df['duration_minutes'] = df.duration.apply(lambda td: td.total_seconds() / 60)"
   ]
  },
  {
   "cell_type": "code",
   "execution_count": 17,
   "id": "bb2449ab",
   "metadata": {},
   "outputs": [
    {
     "data": {
      "text/plain": [
       "0           8.433333\n",
       "1           6.316667\n",
       "2          12.750000\n",
       "3           9.616667\n",
       "4          10.833333\n",
       "             ...    \n",
       "3066761    13.983333\n",
       "3066762    19.450000\n",
       "3066763    24.516667\n",
       "3066764    13.000000\n",
       "3066765    14.400000\n",
       "Name: duration_minutes, Length: 3066766, dtype: float64"
      ]
     },
     "execution_count": 17,
     "metadata": {},
     "output_type": "execute_result"
    }
   ],
   "source": [
    "df.duration_minutes"
   ]
  },
  {
   "cell_type": "markdown",
   "id": "bf2d0569",
   "metadata": {},
   "source": [
    "The duration can be visualised using seaborn and matplotlib.pyplot"
   ]
  },
  {
   "cell_type": "code",
   "execution_count": 18,
   "id": "0fb12e3a",
   "metadata": {},
   "outputs": [
    {
     "name": "stderr",
     "output_type": "stream",
     "text": [
      "/home/codespace/anaconda3/lib/python3.9/site-packages/seaborn/distributions.py:2619: FutureWarning: `distplot` is a deprecated function and will be removed in a future version. Please adapt your code to use either `displot` (a figure-level function with similar flexibility) or `histplot` (an axes-level function for histograms).\n",
      "  warnings.warn(msg, FutureWarning)\n"
     ]
    },
    {
     "data": {
      "text/plain": [
       "<AxesSubplot:xlabel='duration_minutes', ylabel='Density'>"
      ]
     },
     "execution_count": 18,
     "metadata": {},
     "output_type": "execute_result"
    },
    {
     "data": {
      "image/png": "[encoded data removed]",
      "text/plain": [
       "<Figure size 432x288 with 1 Axes>"
      ]
     },
     "metadata": {
      "needs_background": "light"
     },
     "output_type": "display_data"
    }
   ],
   "source": [
    "sns.distplot(df.duration_minutes)"
   ]
  },
  {
   "cell_type": "markdown",
   "id": "4fc8a85f",
   "metadata": {},
   "source": [
    "There is a very long tail, which obscures what the data looks like. Further info about the data can be shown"
   ]
  },
  {
   "cell_type": "code",
   "execution_count": 19,
   "id": "20d57446",
   "metadata": {},
   "outputs": [
    {
     "data": {
      "text/plain": [
       "count    3.066766e+06\n",
       "mean     1.566900e+01\n",
       "std      4.259435e+01\n",
       "min     -2.920000e+01\n",
       "25%      7.116667e+00\n",
       "50%      1.151667e+01\n",
       "75%      1.830000e+01\n",
       "max      1.002918e+04\n",
       "Name: duration_minutes, dtype: float64"
      ]
     },
     "execution_count": 19,
     "metadata": {},
     "output_type": "execute_result"
    }
   ],
   "source": [
    "df.duration_minutes.describe()"
   ]
  },
  {
   "cell_type": "markdown",
   "id": "8c65ac20",
   "metadata": {},
   "source": [
    "The standard deviation (std) is 42.59"
   ]
  },
  {
   "cell_type": "code",
   "execution_count": 20,
   "id": "8a8b308a",
   "metadata": {},
   "outputs": [
    {
     "data": {
      "text/plain": [
       "0.9812202822125979"
      ]
     },
     "execution_count": 20,
     "metadata": {},
     "output_type": "execute_result"
    }
   ],
   "source": [
    "((df.duration_minutes >= 1) & (df.duration_minutes <=60)).mean()"
   ]
  },
  {
   "cell_type": "markdown",
   "id": "1d15b3dd",
   "metadata": {},
   "source": [
    "98% of the records are between 1 and 60 minutes.\n",
    "\n",
    "The outliers are dropped."
   ]
  },
  {
   "cell_type": "code",
   "execution_count": 21,
   "id": "b36886ff",
   "metadata": {},
   "outputs": [],
   "source": [
    "df = df[(df.duration_minutes >= 1) & (df.duration_minutes <=60)]"
   ]
  },
  {
   "cell_type": "markdown",
   "id": "c03773e0",
   "metadata": {},
   "source": [
    "Define categorical variables and numerical variables"
   ]
  },
  {
   "cell_type": "code",
   "execution_count": 22,
   "id": "0671ee07",
   "metadata": {},
   "outputs": [],
   "source": [
    "categorical = ['PULocationID', 'DOLocationID']\n",
    "# this can be used to have a naive training without location IDs as categories\n",
    "# categorical = []\n",
    "numerical = ['trip_distance']"
   ]
  },
  {
   "cell_type": "markdown",
   "id": "7d42c978",
   "metadata": {},
   "source": [
    "The categories will be considered numbers, so they need to be cast to strings so they are treated as categories for one-hot encoding."
   ]
  },
  {
   "cell_type": "code",
   "execution_count": 23,
   "id": "b044e6ba",
   "metadata": {},
   "outputs": [],
   "source": [
    "df[categorical] = df[categorical].astype(str)"
   ]
  },
  {
   "cell_type": "markdown",
   "id": "3cdc01a8",
   "metadata": {},
   "source": [
    "Then each of the rows needs to be turned into a dictionary, and passed into the DictVectorizer fit_transform to make a feature matrix"
   ]
  },
  {
   "cell_type": "code",
   "execution_count": 24,
   "id": "4798e0ce",
   "metadata": {},
   "outputs": [],
   "source": [
    "training_dicts = df[categorical + numerical].to_dict(orient='records')"
   ]
  },
  {
   "cell_type": "code",
   "execution_count": 25,
   "id": "c06e99d2",
   "metadata": {},
   "outputs": [],
   "source": [
    "dv = DictVectorizer()\n",
    "X_train = dv.fit_transform(training_dicts)"
   ]
  },
  {
   "cell_type": "code",
   "execution_count": 27,
   "id": "d6182b0b",
   "metadata": {},
   "outputs": [
    {
     "data": {
      "text/plain": [
       "516"
      ]
     },
     "execution_count": 27,
     "metadata": {},
     "output_type": "execute_result"
    }
   ],
   "source": [
    "len(dv.feature_names_)"
   ]
  },
  {
   "cell_type": "markdown",
   "id": "e3359295",
   "metadata": {},
   "source": [
    "The number of features is the number of fields is the sparse matrix after one-hot encoding. It includes the single numerical value for duration_minutes as well, so the number of categorical features is 515."
   ]
  },
  {
   "cell_type": "code",
   "execution_count": 28,
   "id": "0b91a6bb",
   "metadata": {},
   "outputs": [],
   "source": [
    "target = 'duration_minutes'\n",
    "Y_train = df[target].values"
   ]
  },
  {
   "cell_type": "markdown",
   "id": "ffe97448",
   "metadata": {},
   "source": [
    "Now a linear regression model can be trained"
   ]
  },
  {
   "cell_type": "code",
   "execution_count": 29,
   "id": "c6def8ca",
   "metadata": {},
   "outputs": [
    {
     "data": {
      "text/plain": [
       "LinearRegression()"
      ]
     },
     "execution_count": 29,
     "metadata": {},
     "output_type": "execute_result"
    }
   ],
   "source": [
    "lr = LinearRegression()\n",
    "lr.fit(X_train, Y_train)"
   ]
  },
  {
   "cell_type": "markdown",
   "id": "4ec0c341",
   "metadata": {},
   "source": [
    "A prediction of Y can be made by predicting from the X training matrix. Then it is visualised with sns and plt. The blue prediction is very different to the yellow actual, so it's probably not good."
   ]
  },
  {
   "cell_type": "code",
   "execution_count": 30,
   "id": "a2a33a68",
   "metadata": {},
   "outputs": [],
   "source": [
    "Y_pred = lr.predict(X_train)"
   ]
  },
  {
   "cell_type": "code",
   "execution_count": 31,
   "id": "e9c3fa97",
   "metadata": {},
   "outputs": [
    {
     "name": "stderr",
     "output_type": "stream",
     "text": [
      "/home/codespace/anaconda3/lib/python3.9/site-packages/seaborn/distributions.py:2619: FutureWarning: `distplot` is a deprecated function and will be removed in a future version. Please adapt your code to use either `displot` (a figure-level function with similar flexibility) or `histplot` (an axes-level function for histograms).\n",
      "  warnings.warn(msg, FutureWarning)\n",
      "/home/codespace/anaconda3/lib/python3.9/site-packages/seaborn/distributions.py:2619: FutureWarning: `distplot` is a deprecated function and will be removed in a future version. Please adapt your code to use either `displot` (a figure-level function with similar flexibility) or `histplot` (an axes-level function for histograms).\n",
      "  warnings.warn(msg, FutureWarning)\n"
     ]
    },
    {
     "data": {
      "text/plain": [
       "<matplotlib.legend.Legend at 0x7d102c483130>"
      ]
     },
     "execution_count": 31,
     "metadata": {},
     "output_type": "execute_result"
    },
    {
     "data": {
      "image/png": "[encoded data removed]",
      "text/plain": [
       "<Figure size 432x288 with 1 Axes>"
      ]
     },
     "metadata": {
      "needs_background": "light"
     },
     "output_type": "display_data"
    }
   ],
   "source": [
    "sns.distplot(Y_pred, label='prediction')\n",
    "sns.distplot(Y_train, label='actual')\n",
    "\n",
    "plt.legend()"
   ]
  },
  {
   "cell_type": "markdown",
   "id": "1d710086",
   "metadata": {},
   "source": [
    "The model can be tested with the root mean squared error (RMSE)"
   ]
  },
  {
   "cell_type": "code",
   "execution_count": 32,
   "id": "c4117ce6",
   "metadata": {},
   "outputs": [
    {
     "data": {
      "text/plain": [
       "7.649140464167203"
      ]
     },
     "execution_count": 32,
     "metadata": {},
     "output_type": "execute_result"
    }
   ],
   "source": [
    "mean_squared_error(Y_train, Y_pred, squared=False)"
   ]
  },
  {
   "cell_type": "markdown",
   "id": "0509492e",
   "metadata": {},
   "source": [
    "The output of the RMSE is 7.64, which means on average, the model is wrong by 7.64 minutes.\n",
    "\n",
    "With no categories, it is 9.93."
   ]
  },
  {
   "cell_type": "markdown",
   "id": "821da460",
   "metadata": {},
   "source": [
    "The set up can be set into a function for easy reuse.\n",
    "\n",
    "Note that I had been getting many kernel deat"
   ]
  },
  {
   "cell_type": "code",
   "execution_count": 17,
   "id": "fcfde317",
   "metadata": {},
   "outputs": [],
   "source": [
    "def read_dataframe(filename):\n",
    "    # read in data to dataframe\n",
    "    df = pd.read_parquet(filename)\n",
    "\n",
    "    # convert to pd datetime\n",
    "    df['tpep_pickup_pd_datetime'] = df.tpep_pickup_datetime\n",
    "    df['tpep_dropoff_pd_datetime'] = df.tpep_dropoff_datetime\n",
    "\n",
    "    df.tpep_pickup_pd_datetime = pd.to_datetime(df.tpep_pickup_datetime)\n",
    "    df.tpep_dropoff_pd_datetime = pd.to_datetime(df.tpep_dropoff_datetime)\n",
    "    \n",
    "    # calculate duration\n",
    "    df['duration'] = df.tpep_dropoff_pd_datetime - df.tpep_pickup_pd_datetime\n",
    "    \n",
    "    # convert to minutes\n",
    "    df['duration_minutes'] = df.duration.apply(lambda td: td.total_seconds() / 60)\n",
    "    \n",
    "    # filter to between 1 and 60 minutes\n",
    "    df = df[(df.duration_minutes >= 1) & (df.duration_minutes <=60)]\n",
    "    \n",
    "    # set up variables\n",
    "    categorical = ['PULocationID', 'DOLocationID']\n",
    "    \n",
    "    # cast the categorical to string\n",
    "    df[categorical] = df[categorical].astype(str)\n",
    "\n",
    "    return df"
   ]
  },
  {
   "cell_type": "code",
   "execution_count": 9,
   "id": "20eb6468",
   "metadata": {},
   "outputs": [],
   "source": [
    "df_train = read_dataframe('https://d37ci6vzurychx.cloudfront.net/trip-data/yellow_tripdata_2023-01.parquet')\n",
    "# df_valid = read_dataframe('https://d37ci6vzurychx.cloudfront.net/trip-data/yellow_tripdata_2023-02.parquet')"
   ]
  },
  {
   "cell_type": "markdown",
   "id": "b51ecef0",
   "metadata": {},
   "source": [
    "The model can be trained and then used on the validation data"
   ]
  },
  {
   "cell_type": "code",
   "execution_count": 10,
   "id": "93b73355",
   "metadata": {},
   "outputs": [],
   "source": [
    "categorical = ['PULocationID', 'DOLocationID']\n",
    "# this can be used to have a naive training without location IDs as categories\n",
    "# categorical = []\n",
    "numerical = ['trip_distance']\n",
    "\n",
    "dv = DictVectorizer()\n",
    "\n",
    "train_dicts = df_train[categorical + numerical].to_dict(orient='records')\n",
    "X_train = dv.fit_transform(train_dicts)\n",
    "\n",
    "# valid_dicts = df_valid[categorical + numerical].to_dict(orient='records')\n",
    "# transforming without fit(?)\n",
    "# X_valid = dv.transform(valid_dicts)"
   ]
  },
  {
   "cell_type": "code",
   "execution_count": 11,
   "id": "22dd3c84",
   "metadata": {},
   "outputs": [],
   "source": [
    "target = 'duration_minutes'\n",
    "Y_train = df_train[target].values\n",
    "# Y_valid = df_valid[target].values"
   ]
  },
  {
   "cell_type": "code",
   "execution_count": 12,
   "id": "d7cf1a07",
   "metadata": {},
   "outputs": [
    {
     "data": {
      "text/plain": [
       "7.649140464167203"
      ]
     },
     "execution_count": 12,
     "metadata": {},
     "output_type": "execute_result"
    }
   ],
   "source": [
    "lr = LinearRegression()\n",
    "lr.fit(X_train, Y_train)\n",
    "\n",
    "Y_pred = lr.predict(X_train)\n",
    "\n",
    "mean_squared_error(Y_train, Y_pred, squared=False)"
   ]
  },
  {
   "cell_type": "markdown",
   "id": "17a585a3",
   "metadata": {},
   "source": [
    "It was as we have before. Now get the february validation dataframe ready."
   ]
  },
  {
   "cell_type": "code",
   "execution_count": 13,
   "id": "eced7c09",
   "metadata": {},
   "outputs": [],
   "source": [
    "# df_train = read_dataframe('https://d37ci6vzurychx.cloudfront.net/trip-data/yellow_tripdata_2023-01.parquet')\n",
    "df_valid = read_dataframe('https://d37ci6vzurychx.cloudfront.net/trip-data/yellow_tripdata_2023-02.parquet')"
   ]
  },
  {
   "cell_type": "code",
   "execution_count": 14,
   "id": "dbf9e31a",
   "metadata": {},
   "outputs": [],
   "source": [
    "# categorical = ['PULocationID', 'DOLocationID']\n",
    "# this can be used to have a naive training without location IDs as categories\n",
    "# categorical = []\n",
    "# numerical = ['trip_distance']\n",
    "\n",
    "# dv = DictVectorizer()\n",
    "\n",
    "# train_dicts = df_train[categorical + numerical].to_dict(orient='records')\n",
    "# X_train = dv.fit_transform(train_dicts)\n",
    "\n",
    "valid_dicts = df_valid[categorical + numerical].to_dict(orient='records')\n",
    "# transforming without fit(?)\n",
    "X_valid = dv.transform(valid_dicts)"
   ]
  },
  {
   "cell_type": "code",
   "execution_count": 15,
   "id": "ef0b2651",
   "metadata": {},
   "outputs": [],
   "source": [
    "# target = 'duration_minutes'\n",
    "# Y_train = df_train[target].values\n",
    "Y_valid = df_valid[target].values"
   ]
  },
  {
   "cell_type": "code",
   "execution_count": 16,
   "id": "69341b6b",
   "metadata": {},
   "outputs": [
    {
     "data": {
      "text/plain": [
       "7.811462911207304"
      ]
     },
     "execution_count": 16,
     "metadata": {},
     "output_type": "execute_result"
    }
   ],
   "source": [
    "# lr = LinearRegression()\n",
    "# lr.fit(X_train, Y_train)\n",
    "\n",
    "Y_pred_on_valid = lr.predict(X_valid)\n",
    "\n",
    "mean_squared_error(Y_valid, Y_pred_on_valid, squared=False)"
   ]
  },
  {
   "cell_type": "markdown",
   "id": "e481ed09",
   "metadata": {},
   "source": [
    "The fit of the trained model predicting the validation data is fairly ok, a mean squared error of 7.81, where it was 7.64 when checking against the training data."
   ]
  }
 ],
 "metadata": {
  "kernelspec": {
   "display_name": "Python 3 (ipykernel)",
   "language": "python",
   "name": "python3"
  },
  "language_info": {
   "codemirror_mode": {
    "name": "ipython",
    "version": 3
   },
   "file_extension": ".py",
   "mimetype": "text/x-python",
   "name": "python",
   "nbconvert_exporter": "python",
   "pygments_lexer": "ipython3",
   "version": "3.9.12"
  }
 },
 "nbformat": 4,
 "nbformat_minor": 5
}
